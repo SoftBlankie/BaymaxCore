{
 "cells": [
  {
   "cell_type": "code",
   "execution_count": null,
   "id": "78d34d91",
   "metadata": {},
   "outputs": [],
   "source": [
    "import numpy as np\n",
    "import matplotlib.pyplot as plt"
   ]
  },
  {
   "cell_type": "code",
   "execution_count": null,
   "id": "de9d307a",
   "metadata": {},
   "outputs": [],
   "source": [
    "# 5x5 \"X-ray\" grid (0=black, 1=gray, 9=white/tumor)\n",
    "lung_xray = np.array([\n",
    "    [0, 0, 0, 0, 0],\n",
    "    [0, 1, 1, 1, 0], \n",
    "    [0, 1, 9, 1, 0], # Bright spot = potential tumor\n",
    "    [0, 1, 1, 1, 0],\n",
    "    [0, 0, 0, 0, 0]\n",
    "])"
   ]
  },
  {
   "cell_type": "code",
   "execution_count": null,
   "id": "052a1cd9",
   "metadata": {},
   "outputs": [],
   "source": [
    "plt.imshow(lung_xray, cmap='gray', vmin=0, vmax=10)\n",
    "plt.title(\"Baymax First Scan\", fontweight='bold', fontsize=14)\n",
    "plt.colorbar(label='Radiodensity (HU)')\n",
    "plt.savefig(\"output/day1_scan.png\")\n",
    "plt.show()"
   ]
  },
  {
   "cell_type": "markdown",
   "id": "e401c7ad",
   "metadata": {},
   "source": [
    "# Day 1: Medical Imaging Foundations\n",
    "\n",
    "## What We Did Today\n",
    "- Created a synthetic 5x5 \"X-ray\" using NumPy:  \n",
    "  ```python\n",
    "  lung_xray = np.array([\n",
    "      [0, 0, 0, 0, 0],\n",
    "      [0, 1, 1, 1, 0],\n",
    "      [0, 1, 9, 1, 0],  # 9 = Potential tumor\n",
    "      [0, 1, 1, 1, 0],\n",
    "      [0, 0, 0, 0, 0]\n",
    "  ])\n",
    "  ```\n",
    "- Visualized it with Matplotlib's `imshow()`\n",
    "\n",
    "### Why This Matters for AI\n",
    "1. Pixel Intuition:\n",
    "   - Real AI models (like CNNs) see **all medical images as grids of numbers**\n",
    "   - That `9` is how a tumor might appear in Hounsfield Units (HU)\n",
    "\n",
    "2. Data Pipeline Foundation:\n",
    "   - Tomorrow we'll replace this array with **real DICOM files**\n",
    "   - Next week: Train a CNN to spot these \"9\"s automatically\n",
    "\n",
    "3. Clinical Connection:\n",
    "   - Radiologists mentally do this pattern recognition daily\n",
    "   - Our AI will amplify their skills\n",
    "\n",
    "### Reflection Questions\n",
    "- How might errors in pixel values (e.g., 9→8) affect diagnosis?\n",
    "- What ethical concerns arise when AI interprets these numbers?\n",
    "\n",
    "### Ethical considerations\n",
    "- The synthetic \"9\" could represent a metal implant (safe) or calcified tumor (critical)\n",
    "- Future AI must:\n",
    "   - Distinguish HU contexts\n",
    "   - Flag uncertainties for MD review"
   ]
  }
 ],
 "metadata": {
  "kernelspec": {
   "display_name": "venv",
   "language": "python",
   "name": "python3"
  },
  "language_info": {
   "codemirror_mode": {
    "name": "ipython",
    "version": 3
   },
   "file_extension": ".py",
   "mimetype": "text/x-python",
   "name": "python",
   "nbconvert_exporter": "python",
   "pygments_lexer": "ipython3",
   "version": "3.9.6"
  }
 },
 "nbformat": 4,
 "nbformat_minor": 5
}
